{
 "cells": [
  {
   "cell_type": "code",
   "execution_count": 1,
   "id": "c100dde3",
   "metadata": {},
   "outputs": [],
   "source": [
    "#The functionality of a password strength checker involves analyzing the composition of digits, letters, and special symbols within your password. This tool is developed by training a machine learning model on a labeled dataset that encompasses diverse combinations of letters and special symbols commonly utilized in passwords. Through this training process, the model acquires knowledge on discerning patterns of strong and weak passwords based on the given combinations of letters and symbols."
   ]
  },
  {
   "cell_type": "code",
   "execution_count": 2,
   "id": "b49d7fe5",
   "metadata": {},
   "outputs": [],
   "source": [
    "#So to create an application to check the strength of passwords, we need to have a labelled dataset about different combinations of letters and symbols."
   ]
  },
  {
   "cell_type": "code",
   "execution_count": null,
   "id": "b879d6f9",
   "metadata": {},
   "outputs": [],
   "source": []
  }
 ],
 "metadata": {
  "kernelspec": {
   "display_name": "Python 3 (ipykernel)",
   "language": "python",
   "name": "python3"
  },
  "language_info": {
   "codemirror_mode": {
    "name": "ipython",
    "version": 3
   },
   "file_extension": ".py",
   "mimetype": "text/x-python",
   "name": "python",
   "nbconvert_exporter": "python",
   "pygments_lexer": "ipython3",
   "version": "3.10.5"
  }
 },
 "nbformat": 4,
 "nbformat_minor": 5
}
